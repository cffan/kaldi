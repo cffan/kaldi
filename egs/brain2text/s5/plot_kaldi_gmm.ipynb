{
 "cells": [
  {
   "cell_type": "code",
   "execution_count": null,
   "metadata": {},
   "outputs": [
    {
     "ename": "",
     "evalue": "",
     "output_type": "error",
     "traceback": [
      "\u001b[1;31mFailed to start the Kernel. \n",
      "\u001b[1;31mThe Jupyter notebook server failed to launch in time. \n",
      "View Jupyter <a href='command:jupyter.viewOutput'>log</a> for further details."
     ]
    }
   ],
   "source": [
    "%%bash\n",
    "\n",
    ". /oak/stanford/groups/shenoy/stfan/code/kaldi/egs/librispeech/s5/path.sh\n",
    "gmm_binary=/oak/stanford/groups/shenoy/stfan/code/kaldi/egs/librispeech/s5/exp/mono/final.mdl\n",
    "gmm_text=/oak/stanford/groups/shenoy/stfan/code/kaldi/egs/librispeech/s5/exp/mono/final.txt\n",
    "gmm-copy --binary=false $gmm_binary $gmm_text"
   ]
  }
 ],
 "metadata": {
  "kernelspec": {
   "display_name": "py3.7",
   "language": "python",
   "name": "py3.7"
  },
  "orig_nbformat": 4
 },
 "nbformat": 4,
 "nbformat_minor": 2
}
